{
 "cells": [
  {
   "cell_type": "code",
   "execution_count": 10,
   "id": "d81bd0a5",
   "metadata": {},
   "outputs": [
    {
     "name": "stdout",
     "output_type": "stream",
     "text": [
      "0.6 40 100\n"
     ]
    }
   ],
   "source": [
    "import requests\n",
    "\n",
    "def load():\n",
    "    uri='http://127.0.0.1:8091/api/collections/setting/records'\n",
    "    response=requests.get(uri)\n",
    "    data=response.json().get('items')[0]\n",
    "    return float(data['score']),data['padding'],int(data['quality']),data['port']\n",
    "\n",
    "score,padding,quality=load()[0:3]\n",
    "print(score,padding,quality)"
   ]
  },
  {
   "cell_type": "code",
   "execution_count": null,
   "id": "9a8bc088",
   "metadata": {},
   "outputs": [
    {
     "name": "stdout",
     "output_type": "stream",
     "text": [
      "OUTPUT: 2025/09/20 08:56:53 Server started at http://127.0.0.1:8090\n",
      "OUTPUT: â”œâ”€ REST API:  http://127.0.0.1:8090/api/\n",
      "OUTPUT: â””â”€ Dashboard: http://127.0.0.1:8090/_/\n"
     ]
    }
   ],
   "source": [
    "import subprocess\n",
    "\n",
    "process = subprocess.Popen(\n",
    "    [\"pocketbase.exe\", \"serve\"],\n",
    "    stdout=subprocess.PIPE,\n",
    "    stderr=subprocess.STDOUT,\n",
    "    text=True,                # auto-decodes to str\n",
    "    bufsize=1,                # line-buffered\n",
    "    universal_newlines=True,  # ensure \\n works\n",
    "    creationflags=subprocess.CREATE_NO_WINDOW\n",
    ")\n",
    "\n",
    "for line in process.stdout:\n",
    "    print(\"OUTPUT:\", line.strip())\n",
    "\n",
    "process.wait()\n",
    "print(\"Process finished with code\", process.returncode)\n"
   ]
  },
  {
   "cell_type": "code",
   "execution_count": 75,
   "id": "a0089bef",
   "metadata": {},
   "outputs": [
    {
     "data": {
      "text/plain": [
       "'.'"
      ]
     },
     "execution_count": 75,
     "metadata": {},
     "output_type": "execute_result"
    }
   ],
   "source": [
    "import os\n",
    "\n",
    "\n",
    "os.curdir"
   ]
  },
  {
   "cell_type": "code",
   "execution_count": null,
   "id": "41456bd1",
   "metadata": {},
   "outputs": [],
   "source": []
  }
 ],
 "metadata": {
  "kernelspec": {
   "display_name": "myenv",
   "language": "python",
   "name": "python3"
  },
  "language_info": {
   "codemirror_mode": {
    "name": "ipython",
    "version": 3
   },
   "file_extension": ".py",
   "mimetype": "text/x-python",
   "name": "python",
   "nbconvert_exporter": "python",
   "pygments_lexer": "ipython3",
   "version": "3.10.10"
  }
 },
 "nbformat": 4,
 "nbformat_minor": 5
}
