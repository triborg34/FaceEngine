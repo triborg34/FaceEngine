{
 "cells": [
  {
   "cell_type": "code",
   "execution_count": 10,
   "id": "d81bd0a5",
   "metadata": {},
   "outputs": [
    {
     "name": "stdout",
     "output_type": "stream",
     "text": [
      "0.6 40 100\n"
     ]
    }
   ],
   "source": [
    "import requests\n",
    "\n",
    "def load():\n",
    "    uri='http://127.0.0.1:8091/api/collections/setting/records'\n",
    "    response=requests.get(uri)\n",
    "    data=response.json().get('items')[0]\n",
    "    return float(data['score']),data['padding'],int(data['quality']),data['port']\n",
    "\n",
    "score,padding,quality=load()[0:3]\n",
    "print(score,padding,quality)"
   ]
  }
 ],
 "metadata": {
  "kernelspec": {
   "display_name": "myenv",
   "language": "python",
   "name": "python3"
  },
  "language_info": {
   "codemirror_mode": {
    "name": "ipython",
    "version": 3
   },
   "file_extension": ".py",
   "mimetype": "text/x-python",
   "name": "python",
   "nbconvert_exporter": "python",
   "pygments_lexer": "ipython3",
   "version": "3.10.10"
  }
 },
 "nbformat": 4,
 "nbformat_minor": 5
}
